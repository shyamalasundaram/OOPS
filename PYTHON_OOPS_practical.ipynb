{
  "nbformat": 4,
  "nbformat_minor": 0,
  "metadata": {
    "colab": {
      "provenance": []
    },
    "kernelspec": {
      "name": "python3",
      "display_name": "Python 3"
    },
    "language_info": {
      "name": "python"
    }
  },
  "cells": [
    {
      "cell_type": "markdown",
      "source": [
        "#**PYTHON OOPS: PRACTICAL**"
      ],
      "metadata": {
        "id": "s8VM7YGfSKRO"
      }
    },
    {
      "cell_type": "markdown",
      "source": [
        "#**Question 1. Create a parent class Animal with a method speak() that prints a generic message. Create a child class Dog that overrides the speak() method to print \"Bark!\"**"
      ],
      "metadata": {
        "id": "t7uuXLF-Si1l"
      }
    },
    {
      "cell_type": "code",
      "source": [
        "# Parent class\n",
        "class Animal:\n",
        "    def speak(self):\n",
        "        \"\"\"\n",
        "        Prints a generic message about the animal's sound.\n",
        "        \"\"\"\n",
        "        print(\"This animal makes a sound.\")  #\n",
        "\n",
        "# Child class inheriting from Animal\n",
        "class Dog(Animal):\n",
        "    def speak(self):\n",
        "        \"\"\"\n",
        "        Overrides the speak() method to print \"Bark!\".\n",
        "        \"\"\"\n",
        "        print(\"Bark!\")  #\n",
        "\n",
        "# Example usage:\n",
        "generic_animal = Animal()\n",
        "dog_instance = Dog()\n",
        "\n",
        "generic_animal.speak()\n",
        "dog_instance.speak()"
      ],
      "metadata": {
        "colab": {
          "base_uri": "https://localhost:8080/"
        },
        "id": "x5I2h3iNSoIy",
        "outputId": "25820d7f-d002-413b-de3b-4af9a35a1966"
      },
      "execution_count": null,
      "outputs": [
        {
          "output_type": "stream",
          "name": "stdout",
          "text": [
            "This animal makes a sound.\n",
            "Bark!\n"
          ]
        }
      ]
    },
    {
      "cell_type": "markdown",
      "source": [
        "#**Question 2: Write a program to create an abstract class Shape with a method area(). Derive classes Circle and Rectangle from it and implement the area() method in both.**"
      ],
      "metadata": {
        "id": "MCg5NazxTQnd"
      }
    },
    {
      "cell_type": "code",
      "source": [
        "from abc import ABC, abstractmethod\n",
        "import math\n",
        "\n",
        "# Abstract base class\n",
        "class Shape(ABC):\n",
        "    @abstractmethod\n",
        "    def area(self):\n",
        "        \"\"\"Abstract method to calculate the area of the shape.\"\"\"\n",
        "        pass\n",
        "\n",
        "# Derived class for Circle\n",
        "class Circle(Shape):\n",
        "    def __init__(self, radius):\n",
        "        if radius < 0:\n",
        "            raise ValueError(\"Radius cannot be negative\")\n",
        "        self.radius = radius\n",
        "\n",
        "    def area(self):\n",
        "        \"\"\"Calculates the area of the circle.\"\"\"\n",
        "        return math.pi * self.radius**2\n",
        "\n",
        "# Derived class for Rectangle\n",
        "class Rectangle(Shape):\n",
        "    def __init__(self, width, height):\n",
        "        if width < 0 or height < 0:\n",
        "            raise ValueError(\"Width and height cannot be negative\")\n",
        "        self.width = width\n",
        "        self.height = height\n",
        "\n",
        "    def area(self):\n",
        "        \"\"\"Calculates the area of the rectangle.\"\"\"\n",
        "        return self.width * self.height\n",
        "\n",
        "# Example usage:\n",
        "try:\n",
        "    circle = Circle(5)\n",
        "    rectangle = Rectangle(4, 6)\n",
        "\n",
        "    print(f\"Area of Circle: {circle.area()}\")\n",
        "    print(f\"Area of Rectangle: {rectangle.area()}\")\n",
        "\n",
        "    # This will raise a TypeError as Shape is an abstract class\n",
        "    # generic_shape = Shape()\n",
        "\n",
        "except ValueError as e:\n",
        "    print(f\"Error creating shape: {e}\")"
      ],
      "metadata": {
        "colab": {
          "base_uri": "https://localhost:8080/"
        },
        "id": "XBHcD0dyUcAM",
        "outputId": "e09c35e5-61b0-4bdd-e638-5fe55d8665e4"
      },
      "execution_count": null,
      "outputs": [
        {
          "output_type": "stream",
          "name": "stdout",
          "text": [
            "Area of Circle: 78.53981633974483\n",
            "Area of Rectangle: 24\n"
          ]
        }
      ]
    },
    {
      "cell_type": "markdown",
      "source": [
        "#**Question 3: Implement a multi-level inheritance scenario where a class Vehicle has an attribute type. Derive a class Car and further derive a class ElectricCar that adds a battery attribute.**"
      ],
      "metadata": {
        "id": "IPhPoJAKVFxF"
      }
    },
    {
      "cell_type": "code",
      "source": [
        "# Base class\n",
        "class Vehicle:\n",
        "    def __init__(self, vehicle_type):\n",
        "        self.type = vehicle_type\n",
        "\n",
        "    def display_type(self):\n",
        "        print(f\"Vehicle type: {self.type}\")\n",
        "\n",
        "# Derived class\n",
        "class Car(Vehicle):\n",
        "    def __init__(self, vehicle_type, brand, model):\n",
        "        super().__init__(vehicle_type)\n",
        "        self.brand = brand\n",
        "        self.model = model\n",
        "\n",
        "    def display_details(self):\n",
        "        print(f\"Brand: {self.brand}\")\n",
        "        print(f\"Model: {self.model}\")\n",
        "\n",
        "# Further derived class\n",
        "class ElectricCar(Car):\n",
        "    def __init__(self, vehicle_type, brand, model, battery_capacity):\n",
        "        super().__init__(vehicle_type, brand, model)\n",
        "        self.battery_capacity = battery_capacity\n",
        "\n",
        "    def display_battery_info(self):\n",
        "        print(f\"Battery capacity: {self.battery_capacity} kWh\")\n",
        "\n",
        "# Example usage\n",
        "if __name__ == \"__main__\":\n",
        "    electric_car = ElectricCar(\"Electric\", \"Tesla\", \"Model S\", 100)\n",
        "    electric_car.display_type()\n",
        "    electric_car.display_details()\n",
        "    electric_car.display_battery_info()"
      ],
      "metadata": {
        "colab": {
          "base_uri": "https://localhost:8080/"
        },
        "id": "y1CUlnMUWKnZ",
        "outputId": "b1f72c24-4f3d-4213-ce80-07dc17f5344f"
      },
      "execution_count": null,
      "outputs": [
        {
          "output_type": "stream",
          "name": "stdout",
          "text": [
            "Vehicle type: Electric\n",
            "Brand: Tesla\n",
            "Model: Model S\n",
            "Battery capacity: 100 kWh\n"
          ]
        }
      ]
    },
    {
      "cell_type": "markdown",
      "source": [
        "#**Question 4: Demonstrate polymorphism by creating a base class Bird with a method fly(). Create two derived classes Sparrow and Penguin that override the fly() method.**"
      ],
      "metadata": {
        "id": "WhcxqAD8WTrx"
      }
    },
    {
      "cell_type": "code",
      "source": [
        "# Base class\n",
        "class Bird:\n",
        "    def fly(self):\n",
        "        print(\"Bird is flying\")\n",
        "\n",
        "# Derived class 1\n",
        "class Sparrow(Bird):\n",
        "    def fly(self):\n",
        "        print(\"Sparrow is flying\")\n",
        "\n",
        "# Derived class 2\n",
        "class Penguin(Bird):\n",
        "    def fly(self):\n",
        "        print(\"Penguin cannot fly\")\n",
        "\n",
        "# Polymorphic function\n",
        "def make_bird_fly(bird: Bird):\n",
        "    bird.fly()\n",
        "\n",
        "# Example usage\n",
        "if __name__ == \"__main__\":\n",
        "    sparrow = Sparrow()\n",
        "    penguin = Penguin()\n",
        "\n",
        "    make_bird_fly(sparrow)\n",
        "    make_bird_fly(penguin)"
      ],
      "metadata": {
        "colab": {
          "base_uri": "https://localhost:8080/"
        },
        "id": "smvh4cqfWcuJ",
        "outputId": "431d08bb-7049-46fb-c6b5-5836f27fb39f"
      },
      "execution_count": null,
      "outputs": [
        {
          "output_type": "stream",
          "name": "stdout",
          "text": [
            "Sparrow is flying\n",
            "Penguin cannot fly\n"
          ]
        }
      ]
    },
    {
      "cell_type": "markdown",
      "source": [
        "#**Question 5:  Write a program to demonstrate encapsulation by creating a class BankAccount with private attributes balance and methods to deposit, withdraw, and check balance.**"
      ],
      "metadata": {
        "id": "ZuNtYf0SWxo6"
      }
    },
    {
      "cell_type": "code",
      "source": [
        "# Encapsulated class\n",
        "class BankAccount:\n",
        "    def __init__(self, initial_balance=0):\n",
        "        self.__balance = initial_balance  # Private attribute\n",
        "\n",
        "    # Method to deposit money\n",
        "    def deposit(self, amount):\n",
        "        if amount > 0:\n",
        "            self.__balance += amount\n",
        "            print(f\"Deposited ${amount}. Current balance: ${self.__balance}\")\n",
        "        else:\n",
        "            print(\"Invalid deposit amount.\")\n",
        "\n",
        "    # Method to withdraw money\n",
        "    def withdraw(self, amount):\n",
        "        if 0 < amount <= self.__balance:\n",
        "            self.__balance -= amount\n",
        "            print(f\"Withdrew ${amount}. Current balance: ${self.__balance}\")\n",
        "        elif amount <= 0:\n",
        "            print(\"Invalid withdrawal amount.\")\n",
        "        else:\n",
        "            print(\"Insufficient funds.\")\n",
        "\n",
        "    # Method to check balance\n",
        "    def check_balance(self):\n",
        "        print(f\"Current balance: ${self.__balance}\")\n",
        "if __name__ == \"__main__\":\n",
        "    account = BankAccount(1000)  # Create a bank account with an initial balance\n",
        "    account.check_balance()  # Check the initial balance\n",
        "    account.deposit(500)  # Deposit money\n",
        "    account.withdraw(200)  # Withdraw money\n",
        "    account.check_balance()  # Check the final balance\n",
        "    try:\n",
        "        print(account.__balance)\n",
        "    except AttributeError:\n",
        "        print(\"Error: Cannot access private attribute directly.\")"
      ],
      "metadata": {
        "colab": {
          "base_uri": "https://localhost:8080/"
        },
        "id": "iCF8vVLFW5MY",
        "outputId": "057963ab-4994-467c-9782-bd167b3addff"
      },
      "execution_count": null,
      "outputs": [
        {
          "output_type": "stream",
          "name": "stdout",
          "text": [
            "Current balance: $1000\n",
            "Deposited $500. Current balance: $1500\n",
            "Withdrew $200. Current balance: $1300\n",
            "Current balance: $1300\n",
            "Error: Cannot access private attribute directly.\n"
          ]
        }
      ]
    },
    {
      "cell_type": "markdown",
      "source": [
        "#**Question 6: Demonstrate runtime polymorphism using a method play() in a base class Instrument. Derive classes Guitar and Piano that implement their own version of play().**"
      ],
      "metadata": {
        "id": "p2tmXYeSXwM_"
      }
    },
    {
      "cell_type": "code",
      "source": [
        "# Base class\n",
        "class Instrument:\n",
        "    def play(self):\n",
        "        print(\"Instrument is playing\")\n",
        "\n",
        "# Derived class 1\n",
        "class Guitar(Instrument):\n",
        "    def play(self):\n",
        "        print(\"Guitar is being strummed\")\n",
        "\n",
        "# Derived class 2\n",
        "class Piano(Instrument):\n",
        "    def play(self):\n",
        "        print(\"Piano keys are being pressed\")\n",
        "\n",
        "# Polymorphic function\n",
        "def play_instrument(instrument: Instrument):\n",
        "    instrument.play()\n",
        "\n",
        "# Example usage\n",
        "if __name__ == \"__main__\":\n",
        "    guitar = Guitar()\n",
        "    piano = Piano()\n",
        "\n",
        "    play_instrument(guitar)\n",
        "    play_instrument(piano)\n",
        "\n",
        "    # Demonstrate polymorphism with a list of instruments\n",
        "    instruments = [Guitar(), Piano(), Guitar()]\n",
        "    for instrument in instruments:\n",
        "        instrument.play()\n"
      ],
      "metadata": {
        "colab": {
          "base_uri": "https://localhost:8080/"
        },
        "id": "bW_0-fldX7aN",
        "outputId": "00b5e4c1-acec-477f-fe93-6d6c83bdc68f"
      },
      "execution_count": null,
      "outputs": [
        {
          "output_type": "stream",
          "name": "stdout",
          "text": [
            "Guitar is being strummed\n",
            "Piano keys are being pressed\n",
            "Guitar is being strummed\n",
            "Piano keys are being pressed\n",
            "Guitar is being strummed\n"
          ]
        }
      ]
    },
    {
      "cell_type": "markdown",
      "source": [
        "#**Question 7: Create a class MathOperations with a class method add_numbers() to add two numbers and a static method subtract_numbers() to subtract two numbers.**"
      ],
      "metadata": {
        "id": "CqoIU-9JYeFZ"
      }
    },
    {
      "cell_type": "code",
      "source": [
        "class MathOperations:\n",
        "    @classmethod\n",
        "    def add_numbers(cls, num1, num2):\n",
        "        print(f\"Adding {num1} and {num2} using class method\")\n",
        "        return num1 + num2\n",
        "\n",
        "    @staticmethod\n",
        "    def subtract_numbers(num1, num2):\n",
        "        print(f\"Subtracting {num2} from {num1} using static method\")\n",
        "        return num1 - num2\n",
        "\n",
        "# Example usage\n",
        "if __name__ == \"__main__\":\n",
        "    # Call class method\n",
        "    result_add = MathOperations.add_numbers(10, 5)\n",
        "    print(f\"Result: {result_add}\")\n",
        "\n",
        "    # Call static method\n",
        "    result_subtract = MathOperations.subtract_numbers(10, 5)\n",
        "    print(f\"Result: {result_subtract}\")\n"
      ],
      "metadata": {
        "colab": {
          "base_uri": "https://localhost:8080/"
        },
        "id": "ZJKqMWQ_Ymid",
        "outputId": "c3f71d22-89cf-4904-df27-4a4959ad40d3"
      },
      "execution_count": null,
      "outputs": [
        {
          "output_type": "stream",
          "name": "stdout",
          "text": [
            "Adding 10 and 5 using class method\n",
            "Result: 15\n",
            "Subtracting 5 from 10 using static method\n",
            "Result: 5\n"
          ]
        }
      ]
    },
    {
      "cell_type": "markdown",
      "source": [
        "#**Question 8: Implement a class Person with a class method to count the total number of persons created.**"
      ],
      "metadata": {
        "id": "T-2FiEoeY5AZ"
      }
    },
    {
      "cell_type": "code",
      "source": [
        "class Person:\n",
        "    total_persons = 0\n",
        "\n",
        "    def __init__(self, name):\n",
        "        self.name = name\n",
        "        Person.increment_count()\n",
        "\n",
        "    @classmethod\n",
        "    def increment_count(cls):\n",
        "        cls.total_persons += 1\n",
        "\n",
        "    @classmethod\n",
        "    def get_total_persons(cls):\n",
        "        return cls.total_persons\n",
        "\n",
        "# Example usage\n",
        "if __name__ == \"__main__\":\n",
        "    person1 = Person(\"John\")\n",
        "    person2 = Person(\"Alice\")\n",
        "    person3 = Person(\"Bob\")\n",
        "\n",
        "    print(f\"Total persons created: {Person.get_total_persons()}\")"
      ],
      "metadata": {
        "colab": {
          "base_uri": "https://localhost:8080/"
        },
        "id": "aEEvTfPFY_Bb",
        "outputId": "14d02b95-3d9c-4dd7-9a4a-b1ca58c615c3"
      },
      "execution_count": null,
      "outputs": [
        {
          "output_type": "stream",
          "name": "stdout",
          "text": [
            "Total persons created: 3\n"
          ]
        }
      ]
    },
    {
      "cell_type": "markdown",
      "source": [
        "#**Question 9: Write a class Fraction with attributes numerator and denominator. Override the str method to display the fraction as \"numerator/denominator\".**"
      ],
      "metadata": {
        "id": "jdEiu1PgZOEW"
      }
    },
    {
      "cell_type": "code",
      "source": [
        "class Fraction:\n",
        "    def __init__(self, numerator, denominator):\n",
        "        if denominator == 0:\n",
        "            raise ValueError(\"Denominator cannot be zero\")\n",
        "        self.numerator = numerator\n",
        "        self.denominator = denominator\n",
        "\n",
        "    def __str__(self):\n",
        "        return f\"{self.numerator}/{self.denominator}\"\n",
        "\n",
        "# Example usage\n",
        "if __name__ == \"__main__\":\n",
        "    fraction = Fraction(3, 4)\n",
        "    print(\"The value is:\",fraction)\n",
        "\n",
        "    # Test with negative numbers\n",
        "    fraction_negative = Fraction(-2, 3)\n",
        "    print(\"The value is:\",fraction_negative)"
      ],
      "metadata": {
        "colab": {
          "base_uri": "https://localhost:8080/"
        },
        "id": "hUePiPvMZWaG",
        "outputId": "217c04ea-fb7a-4a66-f524-f30e23cabbd2"
      },
      "execution_count": null,
      "outputs": [
        {
          "output_type": "stream",
          "name": "stdout",
          "text": [
            "The value is: 3/4\n",
            "The value is: -2/3\n"
          ]
        }
      ]
    },
    {
      "cell_type": "markdown",
      "source": [
        "#**Question 10: Demonstrate operator overloading by creating a class Vector and overriding the add method to add two vectors.**"
      ],
      "metadata": {
        "id": "4GqwN2_LaZkA"
      }
    },
    {
      "cell_type": "code",
      "source": [
        "class Vector:\n",
        "    def __init__(self, x, y):\n",
        "        self.x = x\n",
        "        self.y = y\n",
        "\n",
        "    def __add__(self, other):\n",
        "        if isinstance(other, Vector):\n",
        "            return Vector(self.x + other.x, self.y + other.y)\n",
        "        else:\n",
        "            raise TypeError(\"Both operands must be of type Vector\")\n",
        "\n",
        "    def __str__(self):\n",
        "        return f\"({self.x}, {self.y})\"\n",
        "\n",
        "# Example usage\n",
        "if __name__ == \"__main__\":\n",
        "    vector1 = Vector(2, 3)\n",
        "    vector2 = Vector(4, 5)\n",
        "\n",
        "    vector_sum = vector1 + vector2\n",
        "    print(f\"Vector 1: {vector1}\")\n",
        "    print(f\"Vector 2: {vector2}\")\n",
        "    print(f\"Vector sum: {vector_sum}\")"
      ],
      "metadata": {
        "colab": {
          "base_uri": "https://localhost:8080/"
        },
        "id": "A2rFT4Qpag3N",
        "outputId": "608b76ef-5c68-4fc9-e25a-7fbe1ae1c732"
      },
      "execution_count": null,
      "outputs": [
        {
          "output_type": "stream",
          "name": "stdout",
          "text": [
            "Vector 1: (2, 3)\n",
            "Vector 2: (4, 5)\n",
            "Vector sum: (6, 8)\n"
          ]
        }
      ]
    },
    {
      "cell_type": "markdown",
      "source": [
        "#**Question 11: Create a class Person with attributes name and age. Add a method greet() that prints \"Hello, my name is {name} and I am {age} years old.**\n"
      ],
      "metadata": {
        "id": "ntOOq22Ma2HG"
      }
    },
    {
      "cell_type": "code",
      "source": [
        "class Person:\n",
        "    def __init__(self, name, age):\n",
        "        self.name = name\n",
        "        self.age = age\n",
        "\n",
        "    def greet(self):\n",
        "        print(f\"Hello, my name is {self.name} and I am {self.age} years old.\")\n",
        "\n",
        "# Example usage\n",
        "if __name__ == \"__main__\":\n",
        "    person = Person(\"SHYAMALA\", 30)\n",
        "    person.greet()\n",
        "\n"
      ],
      "metadata": {
        "colab": {
          "base_uri": "https://localhost:8080/"
        },
        "id": "_wgrbUHCbHA4",
        "outputId": "1c329be0-40e0-4da9-c5dc-d71f2b150b9f"
      },
      "execution_count": null,
      "outputs": [
        {
          "output_type": "stream",
          "name": "stdout",
          "text": [
            "Hello, my name is SHYAMALA and I am 30 years old.\n"
          ]
        }
      ]
    },
    {
      "cell_type": "markdown",
      "source": [
        "#**Question 12: Implement a class Student with attributes name and grades. Create a method average_grade() to compute the average of the grades.**"
      ],
      "metadata": {
        "id": "ZkScdngPbebS"
      }
    },
    {
      "cell_type": "code",
      "source": [
        "class Student:\n",
        "    def __init__(self, name, grades=None):\n",
        "        self.name = name\n",
        "        self.grades = grades if grades is not None else []\n",
        "\n",
        "    def average_grade(self):\n",
        "        if not self.grades:\n",
        "            return 0\n",
        "        return sum(self.grades) / len(self.grades)\n",
        "\n",
        "# Example usage\n",
        "if __name__ == \"__main__\":\n",
        "    student = Student(\"Shyamala\", [90, 85, 95, 92])\n",
        "    print(f\"Student Name: {student.name}\")\n",
        "    print(f\"Grades: {student.grades}\")\n",
        "    print(f\"Average Grade: {student.average_grade():.2f}\")\n",
        "\n",
        "    # Test with no grades\n",
        "    student_no_grades = Student(\"Deva\")\n",
        "    print(f\"\\nStudent Name: {student_no_grades.name}\")\n",
        "    print(f\"Grades: {student_no_grades.grades}\")\n",
        "    print(f\"Average Grade: {student_no_grades.average_grade()}\")\n",
        "\n"
      ],
      "metadata": {
        "colab": {
          "base_uri": "https://localhost:8080/"
        },
        "id": "x7Ciou2pboBE",
        "outputId": "b22eb8b2-d874-4648-db07-f39482e74c9e"
      },
      "execution_count": null,
      "outputs": [
        {
          "output_type": "stream",
          "name": "stdout",
          "text": [
            "Student Name: Shyamala\n",
            "Grades: [90, 85, 95, 92]\n",
            "Average Grade: 90.50\n",
            "\n",
            "Student Name: Deva\n",
            "Grades: []\n",
            "Average Grade: 0\n"
          ]
        }
      ]
    },
    {
      "cell_type": "markdown",
      "source": [
        "#**Question 13: Create a class Rectangle with methods set_dimensions() to set the dimensions and area() to calculate the area.**"
      ],
      "metadata": {
        "id": "G9mhUoznb9mH"
      }
    },
    {
      "cell_type": "code",
      "source": [
        "class Rectangle:\n",
        "    def __init__(self):\n",
        "        self.length = 0\n",
        "        self.width = 0\n",
        "\n",
        "    def set_dimensions(self, length, width):\n",
        "        if length <= 0 or width <= 0:\n",
        "            raise ValueError(\"Length and width must be positive numbers\")\n",
        "        self.length = length\n",
        "        self.width = width\n",
        "\n",
        "    def area(self):\n",
        "        return self.length * self.width\n",
        "\n",
        "# Example usage\n",
        "if __name__ == \"__main__\":\n",
        "    rectangle = Rectangle()\n",
        "    rectangle.set_dimensions(5, 3)\n",
        "    print(f\"Rectangle dimensions: Length = {rectangle.length}, Width = {rectangle.width}\")\n",
        "    print(f\"Area: {rectangle.area()}\")\n",
        "\n",
        "    # Test with invalid dimensions\n",
        "    try:\n",
        "        rectangle.set_dimensions(-2, 4)\n",
        "    except ValueError as e:\n",
        "        print(f\"Error: {e}\")"
      ],
      "metadata": {
        "colab": {
          "base_uri": "https://localhost:8080/"
        },
        "id": "zUvZj4R-cN5R",
        "outputId": "a5b79ee9-0447-490e-8d32-76e6dcec82f3"
      },
      "execution_count": null,
      "outputs": [
        {
          "output_type": "stream",
          "name": "stdout",
          "text": [
            "Rectangle dimensions: Length = 5, Width = 3\n",
            "Area: 15\n",
            "Error: Length and width must be positive numbers\n"
          ]
        }
      ]
    },
    {
      "cell_type": "markdown",
      "source": [
        "#**Question 14:  Create a class Employee with a method calculate_salary() that computes the salary based on hours worked and hourly rate. Create a derived class Manager that adds a bonus to the salary.**"
      ],
      "metadata": {
        "id": "MS2oNCzncjJy"
      }
    },
    {
      "cell_type": "code",
      "source": [
        "class Employee:\n",
        "    def __init__(self, name, hourly_rate):\n",
        "        self.name = name\n",
        "        self.hourly_rate = hourly_rate\n",
        "        self.hours_worked = 0\n",
        "\n",
        "    def set_hours_worked(self, hours):\n",
        "        if hours < 0:\n",
        "            raise ValueError(\"Hours worked cannot be negative\")\n",
        "        self.hours_worked = hours\n",
        "\n",
        "    def calculate_salary(self):\n",
        "        return self.hours_worked * self.hourly_rate\n",
        "\n",
        "# Manager class (derived from Employee)\n",
        "class Manager(Employee):\n",
        "    def __init__(self, name, hourly_rate, bonus):\n",
        "        super().__init__(name, hourly_rate)\n",
        "        self.bonus = bonus\n",
        "\n",
        "    def calculate_salary(self):\n",
        "        return super().calculate_salary() + self.bonus\n",
        "\n",
        "# Example usage\n",
        "if __name__ == \"__main__\":\n",
        "    employee = Employee(\"Prabhu\", 20)\n",
        "    employee.set_hours_worked(40)\n",
        "    print(f\"Employee Name: {employee.name}\")\n",
        "    print(f\"Hours Worked: {employee.hours_worked}\")\n",
        "    print(f\"Salary: ${employee.calculate_salary():.2f}\")\n",
        "\n",
        "    manager = Manager(\"Dev\", 30, 1000)\n",
        "    manager.set_hours_worked(40)\n",
        "    print(f\"\\nManager Name: {manager.name}\")\n",
        "    print(f\"Hours Worked: {manager.hours_worked}\")\n",
        "    print(f\"Salary: ${manager.calculate_salary():.2f}\")\n"
      ],
      "metadata": {
        "colab": {
          "base_uri": "https://localhost:8080/"
        },
        "id": "zCOMI8S0cuNI",
        "outputId": "11ad202a-dfb0-4223-8e59-29d0d00189c1"
      },
      "execution_count": null,
      "outputs": [
        {
          "output_type": "stream",
          "name": "stdout",
          "text": [
            "Employee Name: Prabhu\n",
            "Hours Worked: 40\n",
            "Salary: $800.00\n",
            "\n",
            "Manager Name: Dev\n",
            "Hours Worked: 40\n",
            "Salary: $2200.00\n"
          ]
        }
      ]
    },
    {
      "cell_type": "markdown",
      "source": [
        "#**Question 15:  Create a class Product with attributes name, price, and quantity. Implement a method total_price() that calculates the total price of the product.**"
      ],
      "metadata": {
        "id": "PTjpEGjrdGAr"
      }
    },
    {
      "cell_type": "code",
      "source": [
        "class Product:\n",
        "    def __init__(self, name, price, quantity):\n",
        "        if price < 0 or quantity < 0:\n",
        "            raise ValueError(\"Price and quantity must be non-negative numbers\")\n",
        "        self.name = name\n",
        "        self.price = price\n",
        "        self.quantity = quantity\n",
        "\n",
        "    def total_price(self):\n",
        "        return self.price * self.quantity\n",
        "\n",
        "# Example usage\n",
        "if __name__ == \"__main__\":\n",
        "    product = Product(\"Laptop\", 1000, 5)\n",
        "    print(f\"Product Name: {product.name}\")\n",
        "    print(f\"Price: ${product.price:.2f}\")\n",
        "    print(f\"Quantity: {product.quantity}\")\n",
        "    print(f\"Total Price: ${product.total_price():.2f}\")\n",
        "\n",
        "    # Test with invalid price\n",
        "    try:\n",
        "        invalid_product = Product(\"Invalid Product\", -50, 10)\n",
        "    except ValueError as e:\n",
        "        print(f\"Error: {e}\")\n"
      ],
      "metadata": {
        "colab": {
          "base_uri": "https://localhost:8080/"
        },
        "id": "OBU62OlNdOpy",
        "outputId": "92b8e5f6-cfe7-42bd-d044-e8084eaa3e7d"
      },
      "execution_count": null,
      "outputs": [
        {
          "output_type": "stream",
          "name": "stdout",
          "text": [
            "Product Name: Laptop\n",
            "Price: $1000.00\n",
            "Quantity: 5\n",
            "Total Price: $5000.00\n",
            "Error: Price and quantity must be non-negative numbers\n"
          ]
        }
      ]
    },
    {
      "cell_type": "markdown",
      "source": [
        "#**Question 16:  Create a class Animal with an abstract method sound(). Create two derived classes Cow and Sheep that implement the sound() method.**"
      ],
      "metadata": {
        "id": "j1dCxDL2dbux"
      }
    },
    {
      "cell_type": "code",
      "source": [
        "class Animal(ABC):\n",
        "    @abstractmethod\n",
        "    def sound(self):\n",
        "        pass\n",
        "\n",
        "# Cow class (derived from Animal)\n",
        "class Cow(Animal):\n",
        "    def sound(self):\n",
        "        return \"Moo\"\n",
        "\n",
        "# Sheep class (derived from Animal)\n",
        "class Sheep(Animal):\n",
        "    def sound(self):\n",
        "        return \"Baa\"\n",
        "\n",
        "# Example usage\n",
        "if __name__ == \"__main__\":\n",
        "    cow = Cow()\n",
        "    sheep = Sheep()\n",
        "\n",
        "    print(f\"Cow sound: {cow.sound()}\")\n",
        "    print(f\"Sheep sound: {sheep.sound()}\")\n",
        "\n",
        "    # Test abstract class instantiation\n",
        "    try:\n",
        "        animal = Animal()\n",
        "    except TypeError as e:\n",
        "        print(f\"Error: {e}\")\n"
      ],
      "metadata": {
        "colab": {
          "base_uri": "https://localhost:8080/"
        },
        "id": "TPCafrDEdj-Q",
        "outputId": "7ad4a9f5-0ef9-478c-bb8f-58043938f306"
      },
      "execution_count": null,
      "outputs": [
        {
          "output_type": "stream",
          "name": "stdout",
          "text": [
            "Cow sound: Moo\n",
            "Sheep sound: Baa\n",
            "Error: Can't instantiate abstract class Animal with abstract method sound\n"
          ]
        }
      ]
    },
    {
      "cell_type": "markdown",
      "source": [
        "#**Question 17:  Create a class Book with attributes title, author, and year_published. Add a method get_book_info() that returns a formatted string with the book's details.**"
      ],
      "metadata": {
        "id": "yepdcSdddwWT"
      }
    },
    {
      "cell_type": "code",
      "source": [
        "class Book:\n",
        "    def __init__(self, title, author, year_published):\n",
        "        self.title = title\n",
        "        self.author = author\n",
        "        self.year_published = year_published\n",
        "\n",
        "    def get_book_info(self):\n",
        "        return f\"'{self.title}' by {self.author}, published in {self.year_published}\"\n",
        "\n",
        "# Example usage\n",
        "if __name__ == \"__main__\":\n",
        "    book = Book(\"To Kill a Mockingbird\", \"Harper Lee\", 1960)\n",
        "    print(book.get_book_info())\n",
        "\n"
      ],
      "metadata": {
        "colab": {
          "base_uri": "https://localhost:8080/"
        },
        "id": "xjlscf8sd3I1",
        "outputId": "1e74bc4c-12ca-4301-9600-d5f0df89846f"
      },
      "execution_count": null,
      "outputs": [
        {
          "output_type": "stream",
          "name": "stdout",
          "text": [
            "'To Kill a Mockingbird' by Harper Lee, published in 1960\n"
          ]
        }
      ]
    },
    {
      "cell_type": "markdown",
      "source": [
        "#**Question 18: Create a class House with attributes address and price. Create a derived class Mansion that adds an attribute number_of_rooms.**"
      ],
      "metadata": {
        "id": "YPZ9v4M8eBKK"
      }
    },
    {
      "cell_type": "code",
      "source": [
        "class House:\n",
        "    def __init__(self, address, price):\n",
        "        self.address = address\n",
        "        self.price = price\n",
        "\n",
        "    def get_house_info(self):\n",
        "        return f\"Address: {self.address}, Price: ${self.price:,.2f}\"\n",
        "\n",
        "# Mansion class (derived from House)\n",
        "class Mansion(House):\n",
        "    def __init__(self, address, price, number_of_rooms):\n",
        "        super().__init__(address, price)\n",
        "        self.number_of_rooms = number_of_rooms\n",
        "\n",
        "    def get_house_info(self):\n",
        "        return f\"{super().get_house_info()}, Number of Rooms: {self.number_of_rooms}\"\n",
        "\n",
        "# Example usage\n",
        "if __name__ == \"__main__\":\n",
        "    house = House(\"123 Main St\", 500000)\n",
        "    mansion = Mansion(\"456 Luxury Dr\", 5000000, 10)\n",
        "\n",
        "    print(house.get_house_info())\n",
        "    print(mansion.get_house_info())"
      ],
      "metadata": {
        "colab": {
          "base_uri": "https://localhost:8080/"
        },
        "id": "AzwL4FZweJ3w",
        "outputId": "04987978-ecea-46ac-8959-0e16409e580a"
      },
      "execution_count": null,
      "outputs": [
        {
          "output_type": "stream",
          "name": "stdout",
          "text": [
            "Address: 123 Main St, Price: $500,000.00\n",
            "Address: 456 Luxury Dr, Price: $5,000,000.00, Number of Rooms: 10\n"
          ]
        }
      ]
    }
  ]
}